{
 "cells": [
  {
   "cell_type": "code",
   "execution_count": 28,
   "metadata": {},
   "outputs": [
    {
     "name": "stdout",
     "output_type": "stream",
     "text": [
      "d:\\Kuliah\\Kode\\SIC6\\Stage 3 - Prototype\\yolov5train\\yolov5\n"
     ]
    },
    {
     "name": "stderr",
     "output_type": "stream",
     "text": [
      "fatal: destination path 'yolov5train' already exists and is not an empty directory.\n",
      "This is now an optional IPython functionality, setting dhist requires you to install the `pickleshare` library.\n"
     ]
    },
    {
     "name": "stdout",
     "output_type": "stream",
     "text": [
      "Requirement already satisfied: matplotlib>=3.2.2 in c:\\users\\asus\\appdata\\local\\programs\\python\\python310\\lib\\site-packages (from -r requirements.txt (line 5)) (3.8.3)\n",
      "Requirement already satisfied: numpy>=1.18.5 in c:\\users\\asus\\appdata\\local\\programs\\python\\python310\\lib\\site-packages (from -r requirements.txt (line 6)) (1.26.4)\n",
      "Requirement already satisfied: opencv-python>=4.1.1 in c:\\users\\asus\\appdata\\local\\programs\\python\\python310\\lib\\site-packages (from -r requirements.txt (line 7)) (4.10.0.84)\n",
      "Requirement already satisfied: Pillow>=7.1.2 in c:\\users\\asus\\appdata\\local\\programs\\python\\python310\\lib\\site-packages (from -r requirements.txt (line 8)) (10.2.0)\n",
      "Requirement already satisfied: PyYAML>=5.3.1 in c:\\users\\asus\\appdata\\local\\programs\\python\\python310\\lib\\site-packages (from -r requirements.txt (line 9)) (6.0.1)\n",
      "Requirement already satisfied: requests>=2.23.0 in c:\\users\\asus\\appdata\\local\\programs\\python\\python310\\lib\\site-packages (from -r requirements.txt (line 10)) (2.31.0)\n",
      "Requirement already satisfied: scipy>=1.4.1 in c:\\users\\asus\\appdata\\local\\programs\\python\\python310\\lib\\site-packages (from -r requirements.txt (line 11)) (1.12.0)\n",
      "Requirement already satisfied: torch>=1.7.0 in c:\\users\\asus\\appdata\\local\\programs\\python\\python310\\lib\\site-packages (from -r requirements.txt (line 12)) (2.2.2)\n",
      "Requirement already satisfied: torchvision>=0.8.1 in c:\\users\\asus\\appdata\\local\\programs\\python\\python310\\lib\\site-packages (from -r requirements.txt (line 13)) (0.17.2)\n",
      "Requirement already satisfied: tqdm>=4.64.0 in c:\\users\\asus\\appdata\\local\\programs\\python\\python310\\lib\\site-packages (from -r requirements.txt (line 14)) (4.66.2)\n",
      "Requirement already satisfied: tensorboard>=2.4.1 in c:\\users\\asus\\appdata\\local\\programs\\python\\python310\\lib\\site-packages (from -r requirements.txt (line 18)) (2.18.0)\n",
      "Requirement already satisfied: pandas>=1.1.4 in c:\\users\\asus\\appdata\\local\\programs\\python\\python310\\lib\\site-packages (from -r requirements.txt (line 23)) (2.2.1)\n",
      "Requirement already satisfied: seaborn>=0.11.0 in c:\\users\\asus\\appdata\\local\\programs\\python\\python310\\lib\\site-packages (from -r requirements.txt (line 24)) (0.13.2)\n",
      "Requirement already satisfied: ipython in c:\\users\\asus\\appdata\\roaming\\python\\python310\\site-packages (from -r requirements.txt (line 41)) (8.31.0)\n",
      "Requirement already satisfied: psutil in c:\\users\\asus\\appdata\\local\\programs\\python\\python310\\lib\\site-packages (from -r requirements.txt (line 42)) (5.9.8)\n",
      "Requirement already satisfied: thop>=0.1.1 in c:\\users\\asus\\appdata\\local\\programs\\python\\python310\\lib\\site-packages (from -r requirements.txt (line 43)) (0.1.1.post2209072238)\n",
      "Requirement already satisfied: kiwisolver>=1.3.1 in c:\\users\\asus\\appdata\\local\\programs\\python\\python310\\lib\\site-packages (from matplotlib>=3.2.2->-r requirements.txt (line 5)) (1.4.5)\n",
      "Requirement already satisfied: python-dateutil>=2.7 in c:\\users\\asus\\appdata\\local\\programs\\python\\python310\\lib\\site-packages (from matplotlib>=3.2.2->-r requirements.txt (line 5)) (2.9.0.post0)\n",
      "Requirement already satisfied: pyparsing>=2.3.1 in c:\\users\\asus\\appdata\\local\\programs\\python\\python310\\lib\\site-packages (from matplotlib>=3.2.2->-r requirements.txt (line 5)) (3.1.2)\n",
      "Requirement already satisfied: packaging>=20.0 in c:\\users\\asus\\appdata\\local\\programs\\python\\python310\\lib\\site-packages (from matplotlib>=3.2.2->-r requirements.txt (line 5)) (24.0)\n",
      "Requirement already satisfied: cycler>=0.10 in c:\\users\\asus\\appdata\\local\\programs\\python\\python310\\lib\\site-packages (from matplotlib>=3.2.2->-r requirements.txt (line 5)) (0.12.1)\n",
      "Requirement already satisfied: fonttools>=4.22.0 in c:\\users\\asus\\appdata\\local\\programs\\python\\python310\\lib\\site-packages (from matplotlib>=3.2.2->-r requirements.txt (line 5)) (4.50.0)\n",
      "Requirement already satisfied: contourpy>=1.0.1 in c:\\users\\asus\\appdata\\local\\programs\\python\\python310\\lib\\site-packages (from matplotlib>=3.2.2->-r requirements.txt (line 5)) (1.2.0)\n",
      "Requirement already satisfied: certifi>=2017.4.17 in c:\\users\\asus\\appdata\\local\\programs\\python\\python310\\lib\\site-packages (from requests>=2.23.0->-r requirements.txt (line 10)) (2024.2.2)\n",
      "Requirement already satisfied: urllib3<3,>=1.21.1 in c:\\users\\asus\\appdata\\local\\programs\\python\\python310\\lib\\site-packages (from requests>=2.23.0->-r requirements.txt (line 10)) (2.2.1)\n",
      "Requirement already satisfied: idna<4,>=2.5 in c:\\users\\asus\\appdata\\local\\programs\\python\\python310\\lib\\site-packages (from requests>=2.23.0->-r requirements.txt (line 10)) (3.7)\n",
      "Requirement already satisfied: charset-normalizer<4,>=2 in c:\\users\\asus\\appdata\\local\\programs\\python\\python310\\lib\\site-packages (from requests>=2.23.0->-r requirements.txt (line 10)) (3.3.2)\n",
      "Requirement already satisfied: jinja2 in c:\\users\\asus\\appdata\\local\\programs\\python\\python310\\lib\\site-packages (from torch>=1.7.0->-r requirements.txt (line 12)) (3.1.6)\n",
      "Requirement already satisfied: fsspec in c:\\users\\asus\\appdata\\local\\programs\\python\\python310\\lib\\site-packages (from torch>=1.7.0->-r requirements.txt (line 12)) (2024.3.1)\n",
      "Requirement already satisfied: sympy in c:\\users\\asus\\appdata\\local\\programs\\python\\python310\\lib\\site-packages (from torch>=1.7.0->-r requirements.txt (line 12)) (1.12)\n",
      "Requirement already satisfied: typing-extensions>=4.8.0 in c:\\users\\asus\\appdata\\local\\programs\\python\\python310\\lib\\site-packages (from torch>=1.7.0->-r requirements.txt (line 12)) (4.12.2)\n",
      "Requirement already satisfied: networkx in c:\\users\\asus\\appdata\\local\\programs\\python\\python310\\lib\\site-packages (from torch>=1.7.0->-r requirements.txt (line 12)) (3.2.1)\n",
      "Requirement already satisfied: filelock in c:\\users\\asus\\appdata\\local\\programs\\python\\python310\\lib\\site-packages (from torch>=1.7.0->-r requirements.txt (line 12)) (3.13.3)\n",
      "Requirement already satisfied: colorama in c:\\users\\asus\\appdata\\local\\programs\\python\\python310\\lib\\site-packages (from tqdm>=4.64.0->-r requirements.txt (line 14)) (0.4.6)\n",
      "Requirement already satisfied: tensorboard-data-server<0.8.0,>=0.7.0 in c:\\users\\asus\\appdata\\local\\programs\\python\\python310\\lib\\site-packages (from tensorboard>=2.4.1->-r requirements.txt (line 18)) (0.7.2)\n",
      "Requirement already satisfied: markdown>=2.6.8 in c:\\users\\asus\\appdata\\local\\programs\\python\\python310\\lib\\site-packages (from tensorboard>=2.4.1->-r requirements.txt (line 18)) (3.7)\n",
      "Requirement already satisfied: grpcio>=1.48.2 in c:\\users\\asus\\appdata\\local\\programs\\python\\python310\\lib\\site-packages (from tensorboard>=2.4.1->-r requirements.txt (line 18)) (1.67.1)\n",
      "Requirement already satisfied: six>1.9 in c:\\users\\asus\\appdata\\local\\programs\\python\\python310\\lib\\site-packages (from tensorboard>=2.4.1->-r requirements.txt (line 18)) (1.16.0)\n",
      "Requirement already satisfied: setuptools>=41.0.0 in c:\\users\\asus\\appdata\\local\\programs\\python\\python310\\lib\\site-packages (from tensorboard>=2.4.1->-r requirements.txt (line 18)) (76.0.0)\n",
      "Requirement already satisfied: protobuf!=4.24.0,>=3.19.6 in c:\\users\\asus\\appdata\\local\\programs\\python\\python310\\lib\\site-packages (from tensorboard>=2.4.1->-r requirements.txt (line 18)) (3.20.3)\n",
      "Requirement already satisfied: werkzeug>=1.0.1 in c:\\users\\asus\\appdata\\local\\programs\\python\\python310\\lib\\site-packages (from tensorboard>=2.4.1->-r requirements.txt (line 18)) (3.1.2)\n",
      "Requirement already satisfied: absl-py>=0.4 in c:\\users\\asus\\appdata\\local\\programs\\python\\python310\\lib\\site-packages (from tensorboard>=2.4.1->-r requirements.txt (line 18)) (2.1.0)\n",
      "Requirement already satisfied: tzdata>=2022.7 in c:\\users\\asus\\appdata\\local\\programs\\python\\python310\\lib\\site-packages (from pandas>=1.1.4->-r requirements.txt (line 23)) (2024.1)\n",
      "Requirement already satisfied: pytz>=2020.1 in c:\\users\\asus\\appdata\\local\\programs\\python\\python310\\lib\\site-packages (from pandas>=1.1.4->-r requirements.txt (line 23)) (2024.1)\n",
      "Requirement already satisfied: pygments>=2.4.0 in c:\\users\\asus\\appdata\\local\\programs\\python\\python310\\lib\\site-packages (from ipython->-r requirements.txt (line 41)) (2.18.0)\n",
      "Requirement already satisfied: jedi>=0.16 in c:\\users\\asus\\appdata\\roaming\\python\\python310\\site-packages (from ipython->-r requirements.txt (line 41)) (0.19.2)\n",
      "Requirement already satisfied: traitlets>=5.13.0 in c:\\users\\asus\\appdata\\roaming\\python\\python310\\site-packages (from ipython->-r requirements.txt (line 41)) (5.14.3)\n",
      "Requirement already satisfied: stack_data in c:\\users\\asus\\appdata\\roaming\\python\\python310\\site-packages (from ipython->-r requirements.txt (line 41)) (0.6.3)\n",
      "Requirement already satisfied: decorator in c:\\users\\asus\\appdata\\roaming\\python\\python310\\site-packages (from ipython->-r requirements.txt (line 41)) (5.1.1)\n",
      "Requirement already satisfied: matplotlib-inline in c:\\users\\asus\\appdata\\roaming\\python\\python310\\site-packages (from ipython->-r requirements.txt (line 41)) (0.1.7)\n",
      "Requirement already satisfied: prompt_toolkit<3.1.0,>=3.0.41 in c:\\users\\asus\\appdata\\local\\programs\\python\\python310\\lib\\site-packages (from ipython->-r requirements.txt (line 41)) (3.0.43)\n",
      "Requirement already satisfied: exceptiongroup in c:\\users\\asus\\appdata\\local\\programs\\python\\python310\\lib\\site-packages (from ipython->-r requirements.txt (line 41)) (1.2.2)\n",
      "Requirement already satisfied: parso<0.9.0,>=0.8.4 in c:\\users\\asus\\appdata\\roaming\\python\\python310\\site-packages (from jedi>=0.16->ipython->-r requirements.txt (line 41)) (0.8.4)\n",
      "Requirement already satisfied: wcwidth in c:\\users\\asus\\appdata\\local\\programs\\python\\python310\\lib\\site-packages (from prompt_toolkit<3.1.0,>=3.0.41->ipython->-r requirements.txt (line 41)) (0.2.13)\n",
      "Requirement already satisfied: MarkupSafe>=2.1.1 in c:\\users\\asus\\appdata\\local\\programs\\python\\python310\\lib\\site-packages (from werkzeug>=1.0.1->tensorboard>=2.4.1->-r requirements.txt (line 18)) (2.1.5)\n",
      "Requirement already satisfied: executing>=1.2.0 in c:\\users\\asus\\appdata\\roaming\\python\\python310\\site-packages (from stack_data->ipython->-r requirements.txt (line 41)) (2.1.0)\n",
      "Requirement already satisfied: pure-eval in c:\\users\\asus\\appdata\\roaming\\python\\python310\\site-packages (from stack_data->ipython->-r requirements.txt (line 41)) (0.2.3)\n",
      "Requirement already satisfied: asttokens>=2.1.0 in c:\\users\\asus\\appdata\\roaming\\python\\python310\\site-packages (from stack_data->ipython->-r requirements.txt (line 41)) (3.0.0)\n",
      "Requirement already satisfied: mpmath>=0.19 in c:\\users\\asus\\appdata\\local\\programs\\python\\python310\\lib\\site-packages (from sympy->torch>=1.7.0->-r requirements.txt (line 12)) (1.3.0)\n",
      "Note: you may need to restart the kernel to use updated packages.\n"
     ]
    },
    {
     "name": "stderr",
     "output_type": "stream",
     "text": [
      "WARNING: You are using pip version 21.2.3; however, version 25.0.1 is available.\n",
      "You should consider upgrading via the 'c:\\Users\\ASUS\\AppData\\Local\\Programs\\Python\\Python310\\python.exe -m pip install --upgrade pip' command.\n"
     ]
    }
   ],
   "source": [
    "from zipfile import ZipFile\n",
    "\n",
    "!git clone https://github.com/freedomwebtech/yolov5train\n",
    "\n",
    "with ZipFile (\"./yolov5train/yolov5.zip\", 'r') as zObject:\n",
    "    zObject.extractall(path = \"./yolov5train\")\n",
    "\n",
    "%cd ./yolov5train/yolov5\n",
    "%pip install -r requirements.txt"
   ]
  },
  {
   "cell_type": "markdown",
   "metadata": {},
   "source": [
    "# Fire Detection Model using YOLOv5"
   ]
  },
  {
   "cell_type": "code",
   "execution_count": 5,
   "metadata": {},
   "outputs": [],
   "source": [
    "import os\n",
    "from roboflow import Roboflow\n",
    "from dotenv import load_dotenv\n",
    "from pathlib import Path\n",
    "\n",
    "# Download the dataset if it hasnt been downloaded yet\n",
    "if not os.path.exists('./Fire-Dataset-for-YOLOv8-10'):\n",
    "    load_dotenv(Path('.env'))\n",
    "    rf = Roboflow(api_key=os.getenv(\"ROBOFLOW_API_KEY\"))\n",
    "    project = rf.workspace(\"aj-garcia-736tc\").project(\"fire-dataset-for-yolov8\")\n",
    "    version = project.version(10)\n",
    "    dataset = version.download(\"yolov5\")\n",
    "                "
   ]
  },
  {
   "cell_type": "code",
   "execution_count": null,
   "metadata": {},
   "outputs": [
    {
     "name": "stdout",
     "output_type": "stream",
     "text": [
      "Train images size: 3196, Val images size: 800\n"
     ]
    }
   ],
   "source": [
    "train_path = Path(\"./Fire-Dataset-for-YOLOv8-10/train/images\")\n",
    "train_size = len(os.listdir(train_path))\n",
    "\n",
    "val_path = Path(\"./Fire-Dataset-for-YOLOv8-10/valid/images\")\n",
    "val_size = len(os.listdir(val_path))\n",
    "\n",
    "print(f\"Train images size: {train_size}, Val images size: {val_size}\")"
   ]
  },
  {
   "cell_type": "code",
   "execution_count": null,
   "metadata": {},
   "outputs": [
    {
     "data": {
      "text/plain": [
       "Text(0, 0.5, 'Percentage (%)')"
      ]
     },
     "execution_count": 17,
     "metadata": {},
     "output_type": "execute_result"
    },
    {
     "data": {
      "image/png": "[encoded data removed]",
      "text/plain": [
       "<Figure size 640x480 with 1 Axes>"
      ]
     },
     "metadata": {},
     "output_type": "display_data"
    }
   ],
   "source": [
    "import matplotlib.pyplot as plt\n",
    "import numpy as np\n",
    "\n",
    "names = [\"Train Dataset\", \"Validation Dataset\"]\n",
    "values = [train_size, val_size]\n",
    "\n",
    "# Visualize the percentage of the distributed datasets\n",
    "plt.bar(names, np.array(values) * 100/sum(values))\n",
    "plt.xlabel(\"Categories\")\n",
    "plt.ylabel(\"Percentage (%)\")"
   ]
  },
  {
   "cell_type": "code",
   "execution_count": 33,
   "metadata": {},
   "outputs": [
    {
     "name": "stdout",
     "output_type": "stream",
     "text": [
      "d:\\Kuliah\\Kode\\SIC6\\Stage 3 - Prototype\n"
     ]
    },
    {
     "name": "stderr",
     "output_type": "stream",
     "text": [
      "This is now an optional IPython functionality, setting dhist requires you to install the `pickleshare` library.\n"
     ]
    }
   ],
   "source": [
    "%cd ../../"
   ]
  },
  {
   "cell_type": "code",
   "execution_count": null,
   "metadata": {},
   "outputs": [
    {
     "name": "stdout",
     "output_type": "stream",
     "text": [
      "\u001b[34m\u001b[1mgithub: \u001b[0mskipping check (not a git repository), for updates see https://github.com/ultralytics/yolov5\n"
     ]
    },
    {
     "name": "stderr",
     "output_type": "stream",
     "text": [
      "2025-03-15 21:47:46.434206: I tensorflow/core/util/port.cc:153] oneDNN custom operations are on. You may see slightly different numerical results due to floating-point round-off errors from different computation orders. To turn them off, set the environment variable `TF_ENABLE_ONEDNN_OPTS=0`.\n",
      "2025-03-15 21:47:47.607880: I tensorflow/core/util/port.cc:153] oneDNN custom operations are on. You may see slightly different numerical results due to floating-point round-off errors from different computation orders. To turn them off, set the environment variable `TF_ENABLE_ONEDNN_OPTS=0`.\n",
      "\u001b[34m\u001b[1mtrain: \u001b[0mweights=./Models/yolov5n.pt, cfg=, data=./yolov5train/Fire-Dataset-for-YOLOv8-10/data.yaml, hyp=yolov5train\\yolov5\\data\\hyps\\hyp.scratch-low.yaml, epochs=20, batch_size=32, imgsz=640, rect=False, resume=False, nosave=False, noval=False, noautoanchor=False, noplots=False, evolve=None, bucket=, cache=None, image_weights=False, device=, multi_scale=False, single_cls=False, optimizer=SGD, sync_bn=False, workers=8, project=yolov5train\\yolov5\\runs\\train, name=exp, exist_ok=False, quad=False, cos_lr=False, label_smoothing=0.0, patience=100, freeze=[0], save_period=-1, seed=0, local_rank=-1, entity=None, upload_dataset=False, bbox_interval=-1, artifact_alias=latest\n",
      "YOLOv5  2025-3-15 Python-3.10.0 torch-2.2.2+cpu CPU\n",
      "\n",
      "\u001b[34m\u001b[1mhyperparameters: \u001b[0mlr0=0.01, lrf=0.01, momentum=0.937, weight_decay=0.0005, warmup_epochs=3.0, warmup_momentum=0.8, warmup_bias_lr=0.1, box=0.05, cls=0.5, cls_pw=1.0, obj=1.0, obj_pw=1.0, iou_t=0.2, anchor_t=4.0, fl_gamma=0.0, hsv_h=0.015, hsv_s=0.7, hsv_v=0.4, degrees=0.0, translate=0.1, scale=0.5, shear=0.0, perspective=0.0, flipud=0.0, fliplr=0.5, mosaic=1.0, mixup=0.0, copy_paste=0.0\n",
      "\u001b[34m\u001b[1mWeights & Biases: \u001b[0mrun 'pip install wandb' to automatically track and visualize YOLOv5  runs in Weights & Biases\n",
      "\u001b[34m\u001b[1mClearML: \u001b[0mrun 'pip install clearml' to automatically track, visualize and remotely train YOLOv5  in ClearML\n",
      "\u001b[34m\u001b[1mComet: \u001b[0mrun 'pip install comet_ml' to automatically track and visualize YOLOv5  runs in Comet\n",
      "\u001b[34m\u001b[1mTensorBoard: \u001b[0mStart with 'tensorboard --logdir yolov5train\\yolov5\\runs\\train', view at http://localhost:6006/\n",
      "\n",
      "Dataset not found , missing paths ['D:\\\\Kuliah\\\\Kode\\\\SIC6\\\\Stage 3 - Prototype\\\\yolov5train\\\\yolov5\\\\Fire-Dataset-for-YOLOv8-10\\\\valid\\\\images']\n",
      "Traceback (most recent call last):\n",
      "  File \"d:\\Kuliah\\Kode\\SIC6\\Stage 3 - Prototype\\yolov5train\\yolov5\\train.py\", line 630, in <module>\n",
      "    main(opt)\n",
      "  File \"d:\\Kuliah\\Kode\\SIC6\\Stage 3 - Prototype\\yolov5train\\yolov5\\train.py\", line 526, in main\n",
      "    train(opt.hyp, opt, device, callbacks)\n",
      "  File \"d:\\Kuliah\\Kode\\SIC6\\Stage 3 - Prototype\\yolov5train\\yolov5\\train.py\", line 110, in train\n",
      "    data_dict = data_dict or check_dataset(data)  # check if None\n",
      "  File \"d:\\Kuliah\\Kode\\SIC6\\Stage 3 - Prototype\\yolov5train\\yolov5\\utils\\general.py\", line 497, in check_dataset\n",
      "    raise Exception('Dataset not found ❌')\n",
      "Exception: Dataset not found ❌\n"
     ]
    }
   ],
   "source": [
    "!python ./yolov5train/yolov5/train.py --img 640 --batch 32 --epochs 20 --data ./Fire-Dataset-for-YOLOv8-10/data.yaml --weights ./Models/yolov5n.pt"
   ]
  }
 ],
 "metadata": {
  "kernelspec": {
   "display_name": "Python 3",
   "language": "python",
   "name": "python3"
  },
  "language_info": {
   "codemirror_mode": {
    "name": "ipython",
    "version": 3
   },
   "file_extension": ".py",
   "mimetype": "text/x-python",
   "name": "python",
   "nbconvert_exporter": "python",
   "pygments_lexer": "ipython3",
   "version": "3.10.0"
  }
 },
 "nbformat": 4,
 "nbformat_minor": 2
}
